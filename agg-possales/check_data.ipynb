{
 "cells": [
  {
   "cell_type": "markdown",
   "metadata": {},
   "source": [
    "## Install dependencies"
   ]
  },
  {
   "cell_type": "code",
   "execution_count": 23,
   "metadata": {},
   "outputs": [],
   "source": [
    "# !pip install openpyxl\n",
    "# !pip install pandas"
   ]
  },
  {
   "cell_type": "markdown",
   "metadata": {},
   "source": [
    "## Set up environment and creds"
   ]
  },
  {
   "cell_type": "code",
   "execution_count": 24,
   "metadata": {},
   "outputs": [],
   "source": [
    "import os\n",
    "import calendar\n",
    "import pandas as pd\n",
    "import logging as log\n",
    "from google.cloud import bigquery as bq\n",
    "from google.oauth2 import service_account\n",
    "\n",
    "JSON_KEYS_PATH = '../json-keys/gch-prod-dwh01-data-pipeline.json'\n",
    "\n",
    "# set up credentials for BQ and Drive to query data\n",
    "credentials = service_account.Credentials.from_service_account_file(JSON_KEYS_PATH)\n",
    "bq_client = bq.Client(credentials=credentials, project=credentials.project_id)"
   ]
  },
  {
   "cell_type": "markdown",
   "metadata": {},
   "source": [
    "## Read expected results into a dataframe"
   ]
  },
  {
   "cell_type": "code",
   "execution_count": 25,
   "metadata": {},
   "outputs": [],
   "source": [
    "expected_df = pd.read_excel('srp.xlsx', sheet_name='Sheet3', header=0)\n",
    "all_dates = expected_df['date'].unique()"
   ]
  },
  {
   "cell_type": "markdown",
   "metadata": {},
   "source": [
    "## Check if all unique dates are extracted correctly"
   ]
  },
  {
   "cell_type": "code",
   "execution_count": 26,
   "metadata": {},
   "outputs": [
    {
     "data": {
      "text/plain": [
       "<DatetimeArray>\n",
       "['2024-08-01 00:00:00', '2024-08-02 00:00:00', '2024-08-03 00:00:00',\n",
       " '2024-08-04 00:00:00', '2024-08-05 00:00:00', '2024-08-06 00:00:00',\n",
       " '2024-09-01 00:00:00', '2024-09-02 00:00:00', '2024-09-03 00:00:00',\n",
       " '2024-09-04 00:00:00', '2024-09-05 00:00:00', '2024-09-06 00:00:00',\n",
       " '2024-09-07 00:00:00', '2024-09-08 00:00:00', '2024-09-09 00:00:00',\n",
       " '2024-09-10 00:00:00', '2024-09-11 00:00:00', '2024-09-12 00:00:00',\n",
       " '2024-09-13 00:00:00', '2024-09-14 00:00:00', '2024-09-15 00:00:00',\n",
       " '2024-09-16 00:00:00', '2024-09-17 00:00:00', '2024-09-18 00:00:00',\n",
       " '2024-09-19 00:00:00', '2024-09-20 00:00:00', '2024-10-01 00:00:00',\n",
       " '2024-10-02 00:00:00', '2024-10-03 00:00:00', '2024-10-04 00:00:00',\n",
       " '2024-10-05 00:00:00', '2024-10-06 00:00:00', '2024-10-07 00:00:00',\n",
       " '2024-10-08 00:00:00', '2024-10-09 00:00:00', '2024-10-10 00:00:00',\n",
       " '2024-10-11 00:00:00', '2024-10-12 00:00:00', '2024-10-13 00:00:00',\n",
       " '2024-10-14 00:00:00', '2024-10-15 00:00:00']\n",
       "Length: 41, dtype: datetime64[ns]"
      ]
     },
     "execution_count": 26,
     "metadata": {},
     "output_type": "execute_result"
    }
   ],
   "source": [
    "all_dates"
   ]
  },
  {
   "cell_type": "code",
   "execution_count": 27,
   "metadata": {},
   "outputs": [
    {
     "data": {
      "text/plain": [
       "41"
      ]
     },
     "execution_count": 27,
     "metadata": {},
     "output_type": "execute_result"
    }
   ],
   "source": [
    "len(all_dates)"
   ]
  },
  {
   "cell_type": "markdown",
   "metadata": {},
   "source": [
    "## Inspect expected_results df"
   ]
  },
  {
   "cell_type": "code",
   "execution_count": 28,
   "metadata": {},
   "outputs": [
    {
     "data": {
      "text/html": [
       "<div>\n",
       "<style scoped>\n",
       "    .dataframe tbody tr th:only-of-type {\n",
       "        vertical-align: middle;\n",
       "    }\n",
       "\n",
       "    .dataframe tbody tr th {\n",
       "        vertical-align: top;\n",
       "    }\n",
       "\n",
       "    .dataframe thead th {\n",
       "        text-align: right;\n",
       "    }\n",
       "</style>\n",
       "<table border=\"1\" class=\"dataframe\">\n",
       "  <thead>\n",
       "    <tr style=\"text-align: right;\">\n",
       "      <th></th>\n",
       "      <th>date</th>\n",
       "      <th>total_qty_sales</th>\n",
       "      <th>total_sales</th>\n",
       "      <th>total_margin</th>\n",
       "    </tr>\n",
       "  </thead>\n",
       "  <tbody>\n",
       "    <tr>\n",
       "      <th>0</th>\n",
       "      <td>2024-08-01</td>\n",
       "      <td>21236.2142</td>\n",
       "      <td>126738.61</td>\n",
       "      <td>29163.94</td>\n",
       "    </tr>\n",
       "    <tr>\n",
       "      <th>1</th>\n",
       "      <td>2024-08-02</td>\n",
       "      <td>18902.6783</td>\n",
       "      <td>125851.20</td>\n",
       "      <td>29148.37</td>\n",
       "    </tr>\n",
       "    <tr>\n",
       "      <th>2</th>\n",
       "      <td>2024-08-03</td>\n",
       "      <td>26079.3416</td>\n",
       "      <td>169499.20</td>\n",
       "      <td>36124.83</td>\n",
       "    </tr>\n",
       "    <tr>\n",
       "      <th>3</th>\n",
       "      <td>2024-08-04</td>\n",
       "      <td>26414.1901</td>\n",
       "      <td>183690.14</td>\n",
       "      <td>39238.73</td>\n",
       "    </tr>\n",
       "    <tr>\n",
       "      <th>4</th>\n",
       "      <td>2024-08-05</td>\n",
       "      <td>20538.1360</td>\n",
       "      <td>129752.49</td>\n",
       "      <td>30793.10</td>\n",
       "    </tr>\n",
       "  </tbody>\n",
       "</table>\n",
       "</div>"
      ],
      "text/plain": [
       "        date  total_qty_sales  total_sales  total_margin\n",
       "0 2024-08-01       21236.2142    126738.61      29163.94\n",
       "1 2024-08-02       18902.6783    125851.20      29148.37\n",
       "2 2024-08-03       26079.3416    169499.20      36124.83\n",
       "3 2024-08-04       26414.1901    183690.14      39238.73\n",
       "4 2024-08-05       20538.1360    129752.49      30793.10"
      ]
     },
     "execution_count": 28,
     "metadata": {},
     "output_type": "execute_result"
    }
   ],
   "source": [
    "expected_df.head()"
   ]
  },
  {
   "cell_type": "markdown",
   "metadata": {},
   "source": [
    "### Rename ```total_sales_qty``` to ```total_qty_sales```\n",
    "\n",
    "Somehow the name for ```total_qty_sales``` is not registered properly even after modification"
   ]
  },
  {
   "cell_type": "code",
   "execution_count": 29,
   "metadata": {},
   "outputs": [],
   "source": [
    "expected_df = expected_df.rename(columns={\n",
    "\t\t'total_sales_qty': 'total_qty_sales'\n",
    "})"
   ]
  },
  {
   "cell_type": "markdown",
   "metadata": {},
   "source": [
    "## Inspect expected_df again"
   ]
  },
  {
   "cell_type": "code",
   "execution_count": 30,
   "metadata": {},
   "outputs": [
    {
     "data": {
      "text/html": [
       "<div>\n",
       "<style scoped>\n",
       "    .dataframe tbody tr th:only-of-type {\n",
       "        vertical-align: middle;\n",
       "    }\n",
       "\n",
       "    .dataframe tbody tr th {\n",
       "        vertical-align: top;\n",
       "    }\n",
       "\n",
       "    .dataframe thead th {\n",
       "        text-align: right;\n",
       "    }\n",
       "</style>\n",
       "<table border=\"1\" class=\"dataframe\">\n",
       "  <thead>\n",
       "    <tr style=\"text-align: right;\">\n",
       "      <th></th>\n",
       "      <th>date</th>\n",
       "      <th>total_qty_sales</th>\n",
       "      <th>total_sales</th>\n",
       "      <th>total_margin</th>\n",
       "    </tr>\n",
       "  </thead>\n",
       "  <tbody>\n",
       "    <tr>\n",
       "      <th>0</th>\n",
       "      <td>2024-08-01</td>\n",
       "      <td>21236.2142</td>\n",
       "      <td>126738.61</td>\n",
       "      <td>29163.94</td>\n",
       "    </tr>\n",
       "    <tr>\n",
       "      <th>1</th>\n",
       "      <td>2024-08-02</td>\n",
       "      <td>18902.6783</td>\n",
       "      <td>125851.20</td>\n",
       "      <td>29148.37</td>\n",
       "    </tr>\n",
       "    <tr>\n",
       "      <th>2</th>\n",
       "      <td>2024-08-03</td>\n",
       "      <td>26079.3416</td>\n",
       "      <td>169499.20</td>\n",
       "      <td>36124.83</td>\n",
       "    </tr>\n",
       "    <tr>\n",
       "      <th>3</th>\n",
       "      <td>2024-08-04</td>\n",
       "      <td>26414.1901</td>\n",
       "      <td>183690.14</td>\n",
       "      <td>39238.73</td>\n",
       "    </tr>\n",
       "    <tr>\n",
       "      <th>4</th>\n",
       "      <td>2024-08-05</td>\n",
       "      <td>20538.1360</td>\n",
       "      <td>129752.49</td>\n",
       "      <td>30793.10</td>\n",
       "    </tr>\n",
       "  </tbody>\n",
       "</table>\n",
       "</div>"
      ],
      "text/plain": [
       "        date  total_qty_sales  total_sales  total_margin\n",
       "0 2024-08-01       21236.2142    126738.61      29163.94\n",
       "1 2024-08-02       18902.6783    125851.20      29148.37\n",
       "2 2024-08-03       26079.3416    169499.20      36124.83\n",
       "3 2024-08-04       26414.1901    183690.14      39238.73\n",
       "4 2024-08-05       20538.1360    129752.49      30793.10"
      ]
     },
     "execution_count": 30,
     "metadata": {},
     "output_type": "execute_result"
    }
   ],
   "source": [
    "expected_df.head()"
   ]
  },
  {
   "cell_type": "markdown",
   "metadata": {},
   "source": [
    "## Get all mismatched data\n",
    "\n",
    "Join all mismatches into a dataframe"
   ]
  },
  {
   "cell_type": "code",
   "execution_count": 31,
   "metadata": {},
   "outputs": [],
   "source": [
    "mismatch_df = pd.DataFrame()\n",
    "\n",
    "for date in all_dates:\n",
    "\t# Convert to date string in the format BigQuery expects\n",
    "\tformatted_date = date.strftime('%Y-%m-%d')\n",
    "\t\n",
    "\tquery = f\"\"\"\n",
    "\tSELECT\n",
    "\t\tdate,\n",
    "\t\tSUM(total_qty_sales) AS total_qty_sales,\n",
    "\t\tSUM(total_sales) AS total_sales,\n",
    "\t\tSUM(total_margin) AS total_margin\n",
    "\tFROM `gch-prod-dwh01.srp.agg_possales_copy5`\n",
    "\tWHERE date = DATE '{formatted_date}'\n",
    "\tGROUP BY date\n",
    "\t\"\"\"\n",
    "\n",
    "\tresults_df = bq_client.query(query).to_dataframe()\n",
    "\tmismatch_df = pd.concat([mismatch_df, results_df], ignore_index=True, sort=False)\n"
   ]
  },
  {
   "cell_type": "markdown",
   "metadata": {},
   "source": [
    "## Inspect the mismatched data"
   ]
  },
  {
   "cell_type": "code",
   "execution_count": 32,
   "metadata": {},
   "outputs": [
    {
     "data": {
      "text/html": [
       "<div>\n",
       "<style scoped>\n",
       "    .dataframe tbody tr th:only-of-type {\n",
       "        vertical-align: middle;\n",
       "    }\n",
       "\n",
       "    .dataframe tbody tr th {\n",
       "        vertical-align: top;\n",
       "    }\n",
       "\n",
       "    .dataframe thead th {\n",
       "        text-align: right;\n",
       "    }\n",
       "</style>\n",
       "<table border=\"1\" class=\"dataframe\">\n",
       "  <thead>\n",
       "    <tr style=\"text-align: right;\">\n",
       "      <th></th>\n",
       "      <th>date</th>\n",
       "      <th>total_qty_sales</th>\n",
       "      <th>total_sales</th>\n",
       "      <th>total_margin</th>\n",
       "    </tr>\n",
       "  </thead>\n",
       "  <tbody>\n",
       "    <tr>\n",
       "      <th>0</th>\n",
       "      <td>2024-08-01</td>\n",
       "      <td>11721.2201</td>\n",
       "      <td>44670.89</td>\n",
       "      <td>9635.88</td>\n",
       "    </tr>\n",
       "    <tr>\n",
       "      <th>1</th>\n",
       "      <td>2024-08-02</td>\n",
       "      <td>9555.8705</td>\n",
       "      <td>43142.50</td>\n",
       "      <td>10286.87</td>\n",
       "    </tr>\n",
       "    <tr>\n",
       "      <th>2</th>\n",
       "      <td>2024-08-03</td>\n",
       "      <td>13903.5728</td>\n",
       "      <td>56188.88</td>\n",
       "      <td>11392.43</td>\n",
       "    </tr>\n",
       "    <tr>\n",
       "      <th>3</th>\n",
       "      <td>2024-08-04</td>\n",
       "      <td>13970.0486</td>\n",
       "      <td>64507.47</td>\n",
       "      <td>13068.66</td>\n",
       "    </tr>\n",
       "    <tr>\n",
       "      <th>4</th>\n",
       "      <td>2024-08-05</td>\n",
       "      <td>11566.8014</td>\n",
       "      <td>43778.06</td>\n",
       "      <td>10385.05</td>\n",
       "    </tr>\n",
       "  </tbody>\n",
       "</table>\n",
       "</div>"
      ],
      "text/plain": [
       "         date  total_qty_sales  total_sales  total_margin\n",
       "0  2024-08-01       11721.2201     44670.89       9635.88\n",
       "1  2024-08-02        9555.8705     43142.50      10286.87\n",
       "2  2024-08-03       13903.5728     56188.88      11392.43\n",
       "3  2024-08-04       13970.0486     64507.47      13068.66\n",
       "4  2024-08-05       11566.8014     43778.06      10385.05"
      ]
     },
     "execution_count": 32,
     "metadata": {},
     "output_type": "execute_result"
    }
   ],
   "source": [
    "mismatch_df.head()"
   ]
  },
  {
   "cell_type": "markdown",
   "metadata": {},
   "source": [
    "## Create a comparison table\n",
    "\n",
    "Set ```different``` as ```True``` if there are any mismatches"
   ]
  },
  {
   "cell_type": "code",
   "execution_count": null,
   "metadata": {},
   "outputs": [],
   "source": [
    "comparison_df = pd.DataFrame({\n",
    "\t'date': mismatch_df['date'],\n",
    "\t'expected_total_qty_sales': round(expected_df['total_qty_sales'], 2),\n",
    "\t'cur_total_qty_sales': round(mismatch_df['total_qty_sales'], 2),\n",
    "\t'expected_sales': round(expected_df['total_sales'], 2),\n",
    "\t'cur_sales': round(mismatch_df['total_sales'], 2),\n",
    "\t'expected_margin': round(expected_df['total_margin'], 2),\n",
    "\t'cur_margin': round(mismatch_df['total_margin'], 2)\n",
    "})\n",
    "\n",
    "comparison_df['different'] = (\n",
    "\t(comparison_df['expected_total_qty_sales'] != comparison_df['cur_total_qty_sales']) | \n",
    "\t(comparison_df['expected_sales'] != comparison_df['cur_sales']) | \n",
    "\t(comparison_df['expected_margin'] != comparison_df['cur_margin'])\n",
    ")\n",
    "\n",
    "final = comparison_df[comparison_df['different'] == True]\n",
    "final"
   ]
  },
  {
   "cell_type": "code",
   "execution_count": 35,
   "metadata": {},
   "outputs": [
    {
     "data": {
      "text/plain": [
       "np.int64(1444)"
      ]
     },
     "execution_count": 35,
     "metadata": {},
     "output_type": "execute_result"
    }
   ],
   "source": [
    "mismatch_df.memory_usage(deep=True).sum()"
   ]
  },
  {
   "cell_type": "code",
   "execution_count": 36,
   "metadata": {},
   "outputs": [
    {
     "data": {
      "text/plain": [
       "1784612.4498614958"
      ]
     },
     "execution_count": 36,
     "metadata": {},
     "output_type": "execute_result"
    }
   ],
   "source": [
    "(2.4 * 1024 ** 3) / 1444"
   ]
  },
  {
   "cell_type": "code",
   "execution_count": 55,
   "metadata": {},
   "outputs": [],
   "source": [
    "def show_null_data(location):\n",
    "    print(f\"=== NULL DATA (Location: {location}) ===\")\n",
    "    for date in expected_df['date'].unique():\n",
    "        formatted_date = date.strftime('%Y-%m-%d')\n",
    "        query = f\"\"\"\n",
    "        SELECT \n",
    "            date,\n",
    "            SUM(total_qty_sales) AS total_qty_sales\n",
    "        FROM `gch-prod-dwh01.srp_data.srp_possales_{location}_copy2` \n",
    "        WHERE date = '{formatted_date}'\n",
    "        GROUP BY date\n",
    "        \"\"\"\n",
    "        results_df = bq_client.query(query).to_dataframe()\n",
    "        if not results_df.empty:\n",
    "            print(f\"Date: {date}\")\n",
    "            display(results_df)\n"
   ]
  },
  {
   "cell_type": "code",
   "execution_count": 56,
   "metadata": {},
   "outputs": [
    {
     "name": "stdout",
     "output_type": "stream",
     "text": [
      "=== NULL DATA (Location: 1216) ===\n"
     ]
    }
   ],
   "source": [
    "show_null_data(1216)"
   ]
  },
  {
   "cell_type": "code",
   "execution_count": null,
   "metadata": {},
   "outputs": [],
   "source": [
    "show_null_data(1217)"
   ]
  },
  {
   "cell_type": "code",
   "execution_count": null,
   "metadata": {},
   "outputs": [
    {
     "name": "stdout",
     "output_type": "stream",
     "text": [
      "[('2024-08-01', 1216), ('2024-08-01', 1221), ('2024-08-01', 1227), ('2024-08-01', 1228), ('2024-08-02', 1216), ('2024-08-02', 1221), ('2024-08-02', 1227), ('2024-08-02', 1228), ('2024-08-03', 1216), ('2024-08-03', 1221), ('2024-08-03', 1227), ('2024-08-03', 1228), ('2024-08-04', 1216), ('2024-08-04', 1221), ('2024-08-04', 1227), ('2024-08-04', 1228), ('2024-08-05', 1216), ('2024-08-05', 1221), ('2024-08-05', 1227), ('2024-08-05', 1228), ('2024-08-06', 1216), ('2024-08-06', 1221), ('2024-08-06', 1227), ('2024-08-06', 1228), ('2024-09-01', 1216), ('2024-09-01', 1227), ('2024-09-01', 1228), ('2024-09-02', 1216), ('2024-09-02', 1227), ('2024-09-02', 1228), ('2024-09-03', 1216), ('2024-09-03', 1227), ('2024-09-03', 1228), ('2024-09-04', 1216), ('2024-09-04', 1227), ('2024-09-04', 1228), ('2024-09-05', 1216), ('2024-09-05', 1227), ('2024-09-05', 1228), ('2024-09-06', 1216), ('2024-09-06', 1227), ('2024-09-06', 1228), ('2024-09-07', 1216), ('2024-09-07', 1227), ('2024-09-07', 1228), ('2024-09-08', 1216), ('2024-09-08', 1227), ('2024-09-08', 1228), ('2024-09-09', 1216), ('2024-09-09', 1227), ('2024-09-09', 1228), ('2024-09-10', 1216), ('2024-09-10', 1227), ('2024-09-10', 1228), ('2024-09-11', 1216), ('2024-09-11', 1227), ('2024-09-11', 1228), ('2024-09-12', 1216), ('2024-09-12', 1227), ('2024-09-12', 1228), ('2024-09-13', 1216), ('2024-09-13', 1227), ('2024-09-13', 1228), ('2024-09-14', 1216), ('2024-09-14', 1227), ('2024-09-14', 1228), ('2024-09-15', 1216), ('2024-09-15', 1227), ('2024-09-15', 1228), ('2024-09-16', 1216), ('2024-09-16', 1227), ('2024-09-16', 1228), ('2024-09-17', 1216), ('2024-09-17', 1227), ('2024-09-17', 1228), ('2024-09-18', 1216), ('2024-09-18', 1227), ('2024-09-18', 1228), ('2024-09-19', 1216), ('2024-09-19', 1227), ('2024-09-19', 1228), ('2024-09-20', 1216), ('2024-09-20', 1227), ('2024-09-20', 1228), ('2024-10-01', 1216), ('2024-10-01', 1217), ('2024-10-01', 1227), ('2024-10-01', 1228), ('2024-10-02', 1216), ('2024-10-02', 1217), ('2024-10-02', 1227), ('2024-10-02', 1228), ('2024-10-03', 1216), ('2024-10-03', 1217), ('2024-10-03', 1227), ('2024-10-04', 1216), ('2024-10-04', 1227), ('2024-10-05', 1216), ('2024-10-05', 1227), ('2024-10-06', 1216), ('2024-10-06', 1227), ('2024-10-07', 1216), ('2024-10-07', 1217), ('2024-10-07', 1227), ('2024-10-08', 1216), ('2024-10-08', 1217), ('2024-10-08', 1227), ('2024-10-09', 1216), ('2024-10-09', 1217), ('2024-10-09', 1227), ('2024-10-10', 1216), ('2024-10-10', 1217), ('2024-10-10', 1227), ('2024-10-11', 1216), ('2024-10-11', 1217), ('2024-10-11', 1227), ('2024-10-12', 1216), ('2024-10-12', 1217), ('2024-10-12', 1227), ('2024-10-13', 1216), ('2024-10-13', 1217), ('2024-10-13', 1227), ('2024-10-14', 1216), ('2024-10-14', 1217), ('2024-10-15', 1216), ('2024-10-15', 1217), ('2024-10-15', 1227)]\n"
     ]
    }
   ],
   "source": [
    "locations = [1216, 1217, 1221, 1226, 1227, 1228]\n",
    "date_loc_missing = []\n",
    "\n",
    "for date in expected_df['date'].unique():\n",
    "\tformatted_date = date.strftime('%Y-%m-%d')\n",
    "\t\n",
    "\tfor loc in locations:\n",
    "\t\tquery = f\"\"\"\n",
    "\t\tSELECT date, total_qty_sales\n",
    "\t\tFROM `gch-prod-dwh01.srp_data.srp_possales_{loc}_copy2` \n",
    "\t\tWHERE date = '{formatted_date}'\n",
    "\t\t\"\"\"\n",
    "\t\t\n",
    "\t\ttry:\n",
    "\t\t\tresults_df = bq_client.query(query).to_dataframe()\n",
    "\t\t\t\n",
    "\t\t\tif results_df.empty:\n",
    "\t\t\t\tdate_loc_missing.append((formatted_date, loc))\n",
    "\t\t\t\t\n",
    "\t\texcept Exception as e:\n",
    "\t\t\tprint(f\"Error querying location {loc} for date {formatted_date}: {str(e)}\")\n",
    "\t\t\tdate_loc_missing.append((formatted_date, loc))  # Assume missing if error occurs\n",
    "\n",
    "print(date_loc_missing)"
   ]
  },
  {
   "cell_type": "code",
   "execution_count": null,
   "metadata": {},
   "outputs": [],
   "source": [
    "def extract_and_push_missing_data(date_loc_missing):\n",
    "    creds = service_account.Credentials.from_service_account_file(SERVICE_ACCOUNT, scopes=SCOPES)\n",
    "    drive_service = build('drive', 'v3', credentials=creds)\n",
    "    \n",
    "    for date_str, loc in date_loc_missing:\n",
    "        try:\n",
    "            # Convert date to folder structure\n",
    "            date_obj = datetime.strptime(date_str, '%Y-%m-%d')\n",
    "            folder_name = f\"SRP_{date_obj.strftime('%Y%m')}\"\n",
    "            file_name = f\"SRP_{loc}_{date_obj.strftime('%Y%m%d')}.csv\"\n",
    "            \n",
    "            log.info(f\"Processing {file_name} in folder {folder_name}\")\n",
    "            \n",
    "            # 1. Find the parent folder\n",
    "            folder_query = f\"name = '{folder_name}' and '{SRP_PARENT_FOLDER_ID}' in parents and mimeType = 'application/vnd.google-apps.folder'\"\n",
    "            folder = drive_service.files().list(\n",
    "                q=folder_query,\n",
    "                fields='files(id)'\n",
    "            ).execute().get('files', [])\n",
    "            \n",
    "            if not folder:\n",
    "                log.error(f\"Folder {folder_name} not found\")\n",
    "                continue\n",
    "                \n",
    "            folder_id = folder[0]['id']\n",
    "            \n",
    "            # 2. Find the CSV file in the folder\n",
    "            file_query = f\"name = '{file_name}' and '{folder_id}' in parents\"\n",
    "            csv_file = drive_service.files().list(\n",
    "                q=file_query,\n",
    "                fields='files(id, name)'\n",
    "            ).execute().get('files', [])\n",
    "            \n",
    "            if not csv_file:\n",
    "                log.error(f\"File {file_name} not found in {folder_name}\")\n",
    "                continue\n",
    "                \n",
    "            # 3. Process and upload the CSV\n",
    "            results_df = process_csv_from_drive(drive_service, csv_file[0])\n",
    "            \n",
    "            if not results_df.empty:\n",
    "                # Add proper date formatting\n",
    "                results_df['date'] = pd.to_datetime(results_df['date']).dt.date\n",
    "                \n",
    "                # Standardize column names\n",
    "                results_df.columns = [snake_case(col) for col in results_df.columns]\n",
    "                \n",
    "                # Push to BigQuery\n",
    "                load_table(results_df, f\"{loc}_copy2\")\n",
    "                log.info(f\"Successfully uploaded {file_name} to location {loc}\")\n",
    "            else:\n",
    "                log.warning(f\"Empty dataframe for {file_name}\")\n",
    "                \n",
    "        except Exception as e:\n",
    "            log.error(f\"Failed to process {file_name}: {str(e)}\")\n",
    "            continue\n",
    "\n",
    "# Modified load_table function with proper partitioning\n",
    "def load_table(df, table_suffix: str):\n",
    "    table_ref = f'gch-prod-dwh01.srp_data.srp_possales_{table_suffix}'\n",
    "    job_config = bq.LoadJobConfig(\n",
    "        write_disposition='WRITE_APPEND',\n",
    "        time_partitioning=bq.TimePartitioning(field=\"date\"),\n",
    "        autodetect=True\n",
    "    )\n",
    "    job = bq_client.load_table_from_dataframe(df, table_ref, job_config=job_config)\n",
    "    return job.result()"
   ]
  },
  {
   "cell_type": "code",
   "execution_count": 65,
   "metadata": {},
   "outputs": [
    {
     "name": "stdout",
     "output_type": "stream",
     "text": [
      "202408\n"
     ]
    }
   ],
   "source": [
    "a = '2024-08-01'\n",
    "\n",
    "a = a.replace('-', '')[:6]\n",
    "# a = a[:6]\n",
    "\n",
    "print(a)"
   ]
  },
  {
   "cell_type": "code",
   "execution_count": 1,
   "metadata": {},
   "outputs": [
    {
     "name": "stdout",
     "output_type": "stream",
     "text": [
      "127\n"
     ]
    }
   ],
   "source": [
    "l = [('2024-08-01', 1216), ('2024-08-01', 1221), ('2024-08-01', 1227), ('2024-08-01', 1228), ('2024-08-02', 1216), ('2024-08-02', 1221), ('2024-08-02', 1227), ('2024-08-02', 1228), ('2024-08-03', 1216), ('2024-08-03', 1221), ('2024-08-03', 1227), ('2024-08-03', 1228), ('2024-08-04', 1216), ('2024-08-04', 1221), ('2024-08-04', 1227), ('2024-08-04', 1228), ('2024-08-05', 1216), ('2024-08-05', 1221), ('2024-08-05', 1227), ('2024-08-05', 1228), ('2024-08-06', 1216), ('2024-08-06', 1221), ('2024-08-06', 1227), ('2024-08-06', 1228), ('2024-09-01', 1216), ('2024-09-01', 1227), ('2024-09-01', 1228), ('2024-09-02', 1216), ('2024-09-02', 1227), ('2024-09-02', 1228), ('2024-09-03', 1216), ('2024-09-03', 1227), ('2024-09-03', 1228), ('2024-09-04', 1216), ('2024-09-04', 1227), ('2024-09-04', 1228), ('2024-09-05', 1216), ('2024-09-05', 1227), ('2024-09-05', 1228), ('2024-09-06', 1216), ('2024-09-06', 1227), ('2024-09-06', 1228), ('2024-09-07', 1216), ('2024-09-07', 1227), ('2024-09-07', 1228), ('2024-09-08', 1216), ('2024-09-08', 1227), ('2024-09-08', 1228), ('2024-09-09', 1216), ('2024-09-09', 1227), ('2024-09-09', 1228), ('2024-09-10', 1216), ('2024-09-10', 1227), ('2024-09-10', 1228), ('2024-09-11', 1216), ('2024-09-11', 1227), ('2024-09-11', 1228), ('2024-09-12', 1216), ('2024-09-12', 1227), ('2024-09-12', 1228), ('2024-09-13', 1216), ('2024-09-13', 1227), ('2024-09-13', 1228), ('2024-09-14', 1216), ('2024-09-14', 1227), ('2024-09-14', 1228), ('2024-09-15', 1216), ('2024-09-15', 1227), ('2024-09-15', 1228), ('2024-09-16', 1216), ('2024-09-16', 1227), ('2024-09-16', 1228), ('2024-09-17', 1216), ('2024-09-17', 1227), ('2024-09-17', 1228), ('2024-09-18', 1216), ('2024-09-18', 1227), ('2024-09-18', 1228), ('2024-09-19', 1216), ('2024-09-19', 1227), ('2024-09-19', 1228), ('2024-09-20', 1216), ('2024-09-20', 1227), ('2024-09-20', 1228), ('2024-10-01', 1216), ('2024-10-01', 1217), ('2024-10-01', 1227), ('2024-10-01', 1228), ('2024-10-02', 1216), ('2024-10-02', 1217), ('2024-10-02', 1227), ('2024-10-02', 1228), ('2024-10-03', 1216), ('2024-10-03', 1217), ('2024-10-03', 1227), ('2024-10-04', 1216), ('2024-10-04', 1227), ('2024-10-05', 1216), ('2024-10-05', 1227), ('2024-10-06', 1216), ('2024-10-06', 1227), ('2024-10-07', 1216), ('2024-10-07', 1217), ('2024-10-07', 1227), ('2024-10-08', 1216), ('2024-10-08', 1217), ('2024-10-08', 1227), ('2024-10-09', 1216), ('2024-10-09', 1217), ('2024-10-09', 1227), ('2024-10-10', 1216), ('2024-10-10', 1217), ('2024-10-10', 1227), ('2024-10-11', 1216), ('2024-10-11', 1217), ('2024-10-11', 1227), ('2024-10-12', 1216), ('2024-10-12', 1217), ('2024-10-12', 1227), ('2024-10-13', 1216), ('2024-10-13', 1217), ('2024-10-13', 1227), ('2024-10-14', 1216), ('2024-10-14', 1217), ('2024-10-15', 1216), ('2024-10-15', 1217), ('2024-10-15', 1227)]\n",
    "\n",
    "print(len(l))"
   ]
  }
 ],
 "metadata": {
  "kernelspec": {
   "display_name": "Python 3",
   "language": "python",
   "name": "python3"
  },
  "language_info": {
   "codemirror_mode": {
    "name": "ipython",
    "version": 3
   },
   "file_extension": ".py",
   "mimetype": "text/x-python",
   "name": "python",
   "nbconvert_exporter": "python",
   "pygments_lexer": "ipython3",
   "version": "3.13.0"
  }
 },
 "nbformat": 4,
 "nbformat_minor": 2
}
