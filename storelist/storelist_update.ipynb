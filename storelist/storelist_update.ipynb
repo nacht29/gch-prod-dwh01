{
 "cells": [
  {
   "cell_type": "code",
   "execution_count": 83,
   "id": "f2571f1d",
   "metadata": {},
   "outputs": [],
   "source": [
    "from pygcp.utils import *\n",
    "import pandas as pd\n",
    "import numpy as np"
   ]
  },
  {
   "cell_type": "code",
   "execution_count": 84,
   "id": "94144782",
   "metadata": {},
   "outputs": [],
   "source": [
    "store_list_df = pd.read_excel('store_list.xlsx', sheet_name=1)\n",
    "location_df = pd.read_excel('store_list.xlsx', sheet_name=2)"
   ]
  },
  {
   "cell_type": "code",
   "execution_count": 124,
   "id": "443cc605",
   "metadata": {},
   "outputs": [],
   "source": [
    "store_list_df.columns = [snake_case(col) for col in store_list_df.columns]\n",
    "location_df.columns  = [snake_case(col) for col in location_df]"
   ]
  },
  {
   "cell_type": "code",
   "execution_count": 86,
   "id": "e427d191",
   "metadata": {},
   "outputs": [
    {
     "data": {
      "text/plain": [
       "Index(['unnamed:_0', 'site', 'site_name', 'area', 'banner',\n",
       "       'remarks_closed_store'],\n",
       "      dtype='object')"
      ]
     },
     "execution_count": 86,
     "metadata": {},
     "output_type": "execute_result"
    }
   ],
   "source": [
    "store_list_df.columns"
   ]
  },
  {
   "cell_type": "code",
   "execution_count": 125,
   "id": "f9f1083a",
   "metadata": {},
   "outputs": [
    {
     "data": {
      "text/plain": [
       "Index(['site', 'site_name', 'branch_add', 'banner'], dtype='object')"
      ]
     },
     "execution_count": 125,
     "metadata": {},
     "output_type": "execute_result"
    }
   ],
   "source": [
    "location_df.columns"
   ]
  },
  {
   "cell_type": "code",
   "execution_count": 88,
   "id": "e4a1d848",
   "metadata": {},
   "outputs": [
    {
     "data": {
      "text/plain": [
       "array(['01.HYPERMARKET', '01.TMC - HYPERMARKET', '02.SUPERMARKET',\n",
       "       '02. TMC - SUPERMARKET', '03.UPSCALE',\n",
       "       '06.DISTRIBUTION CENTRE - GIANT',\n",
       "       '07.DISTRIBUTION CENTRE - GIANT MINI', '04.GIANT MINI',\n",
       "       '05.UNCLE JACK'], dtype=object)"
      ]
     },
     "execution_count": 88,
     "metadata": {},
     "output_type": "execute_result"
    }
   ],
   "source": [
    "store_list_df['banner'].unique()"
   ]
  },
  {
   "cell_type": "code",
   "execution_count": 89,
   "id": "9cafad56",
   "metadata": {},
   "outputs": [
    {
     "data": {
      "text/plain": [
       "array(['Giant Super', 'Giant Hyper', 'Upscale', 'Giant Mini',\n",
       "       'Distribution Centre', 'HQ', 'UPSCALE'], dtype=object)"
      ]
     },
     "execution_count": 89,
     "metadata": {},
     "output_type": "execute_result"
    }
   ],
   "source": [
    "location_df['banner'].unique()"
   ]
  },
  {
   "cell_type": "code",
   "execution_count": 90,
   "id": "10c70e2f",
   "metadata": {},
   "outputs": [],
   "source": [
    "def update_banner(row):\n",
    "\tmatch row['banner']:\n",
    "\t\tcase 'Giant Super':\n",
    "\t\t\tif 'TMC' not in row['site_name']:\n",
    "\t\t\t\treturn '02.SUPERMARKET'\n",
    "\t\t\telse:\n",
    "\t\t\t\treturn '02. TMC - SUPERMARKET'\n",
    "\n",
    "\t\tcase 'Giant Hyper':\n",
    "\t\t\tif 'TMC' not in row['site_name']:\n",
    "\t\t\t\treturn '02.HYPERMARKET'\n",
    "\t\t\telse:\n",
    "\t\t\t\treturn '02. TMC - HYPERMARKET'\n",
    "\n",
    "\t\tcase 'Upscale':\n",
    "\t\t\treturn '03.UPSCALE'\n",
    "\n",
    "\t\tcase 'Giant Mini':\n",
    "\t\t\tif 'DC' in row['site_name'] and 'Mini' in row['site_name']:\n",
    "\t\t\t\treturn '07.DISTRIBUTION CENTRE - GIANT MINI'\n",
    "\t\t\telse:\n",
    "\t\t\t\treturn '04.GIANT MINI'\n",
    "\n",
    "\t\tcase 'Distribution Centre':\n",
    "\t\t\tif 'DC' in row['site_name'] and 'Mini' in row['site_name']:\n",
    "\t\t\t\treturn '07.DISTRIBUTION CENTRE - GIANT MINI'\n",
    "\t\t\telse:\n",
    "\t\t\t\treturn '06.DISTRIBUTION CENTRE - GIANT'\n",
    "\n",
    "\t\tcase 'HQ':\n",
    "\t\t\treturn ''\n",
    "\n",
    "\t\tcase 'UPSCALE':\n",
    "\t\t\treturn '03.UPSCALE'\n",
    "\n",
    "\t\tcase _:\n",
    "\t\t\treturn row['banner']"
   ]
  },
  {
   "cell_type": "code",
   "execution_count": 91,
   "id": "f9ca3b24",
   "metadata": {},
   "outputs": [],
   "source": [
    "location_df['banner'] = location_df.apply(update_banner, axis=1)"
   ]
  },
  {
   "cell_type": "code",
   "execution_count": 92,
   "id": "861c30a6",
   "metadata": {},
   "outputs": [
    {
     "data": {
      "text/html": [
       "<div>\n",
       "<style scoped>\n",
       "    .dataframe tbody tr th:only-of-type {\n",
       "        vertical-align: middle;\n",
       "    }\n",
       "\n",
       "    .dataframe tbody tr th {\n",
       "        vertical-align: top;\n",
       "    }\n",
       "\n",
       "    .dataframe thead th {\n",
       "        text-align: right;\n",
       "    }\n",
       "</style>\n",
       "<table border=\"1\" class=\"dataframe\">\n",
       "  <thead>\n",
       "    <tr style=\"text-align: right;\">\n",
       "      <th></th>\n",
       "      <th>site</th>\n",
       "      <th>site_name</th>\n",
       "      <th>branch_add</th>\n",
       "      <th>banner</th>\n",
       "    </tr>\n",
       "  </thead>\n",
       "  <tbody>\n",
       "    <tr>\n",
       "      <th>0</th>\n",
       "      <td>1001</td>\n",
       "      <td>TMC SUPERMARKET (BANGSAR)</td>\n",
       "      <td>03-254290 23-27, LORONG ARA KIRI SA,\\nLUCKY GA...</td>\n",
       "      <td>02. TMC - SUPERMARKET</td>\n",
       "    </tr>\n",
       "    <tr>\n",
       "      <th>1</th>\n",
       "      <td>1002</td>\n",
       "      <td>GIANT SUPERMARKET (KELANA JAYA)</td>\n",
       "      <td>NO. 2-8, SS 6/3,\\nPUSAT BANDAR KELANA JAYA,\\n4...</td>\n",
       "      <td>02.SUPERMARKET</td>\n",
       "    </tr>\n",
       "    <tr>\n",
       "      <th>2</th>\n",
       "      <td>1004</td>\n",
       "      <td>GIANT SUPERMARKET (ULU KLANG)</td>\n",
       "      <td>LOT 13793 &amp; 13796,\\nJALAN CHANGKAT PERMATA,\\nT...</td>\n",
       "      <td>02.SUPERMARKET</td>\n",
       "    </tr>\n",
       "    <tr>\n",
       "      <th>3</th>\n",
       "      <td>1006</td>\n",
       "      <td>GIANT HYPERMARKET (PLENTONG JB)</td>\n",
       "      <td>NO.3, JALAN MASAI LAMA,\\nMUKIM PLENTONG,\\nMASA...</td>\n",
       "      <td>02.HYPERMARKET</td>\n",
       "    </tr>\n",
       "    <tr>\n",
       "      <th>4</th>\n",
       "      <td>1008</td>\n",
       "      <td>GIANT SUPERMARKET (AMPANG PNT)</td>\n",
       "      <td>LOT 36, GROUND FLOOR,\\nAMPANG POINT SHOPPING C...</td>\n",
       "      <td>02.SUPERMARKET</td>\n",
       "    </tr>\n",
       "  </tbody>\n",
       "</table>\n",
       "</div>"
      ],
      "text/plain": [
       "   site                        site_name  \\\n",
       "0  1001        TMC SUPERMARKET (BANGSAR)   \n",
       "1  1002  GIANT SUPERMARKET (KELANA JAYA)   \n",
       "2  1004    GIANT SUPERMARKET (ULU KLANG)   \n",
       "3  1006  GIANT HYPERMARKET (PLENTONG JB)   \n",
       "4  1008   GIANT SUPERMARKET (AMPANG PNT)   \n",
       "\n",
       "                                          branch_add                 banner  \n",
       "0  03-254290 23-27, LORONG ARA KIRI SA,\\nLUCKY GA...  02. TMC - SUPERMARKET  \n",
       "1  NO. 2-8, SS 6/3,\\nPUSAT BANDAR KELANA JAYA,\\n4...         02.SUPERMARKET  \n",
       "2  LOT 13793 & 13796,\\nJALAN CHANGKAT PERMATA,\\nT...         02.SUPERMARKET  \n",
       "3  NO.3, JALAN MASAI LAMA,\\nMUKIM PLENTONG,\\nMASA...         02.HYPERMARKET  \n",
       "4  LOT 36, GROUND FLOOR,\\nAMPANG POINT SHOPPING C...         02.SUPERMARKET  "
      ]
     },
     "execution_count": 92,
     "metadata": {},
     "output_type": "execute_result"
    }
   ],
   "source": [
    "location_df.head()"
   ]
  },
  {
   "cell_type": "code",
   "execution_count": 93,
   "id": "76ba16a2",
   "metadata": {},
   "outputs": [
    {
     "data": {
      "text/html": [
       "<div>\n",
       "<style scoped>\n",
       "    .dataframe tbody tr th:only-of-type {\n",
       "        vertical-align: middle;\n",
       "    }\n",
       "\n",
       "    .dataframe tbody tr th {\n",
       "        vertical-align: top;\n",
       "    }\n",
       "\n",
       "    .dataframe thead th {\n",
       "        text-align: right;\n",
       "    }\n",
       "</style>\n",
       "<table border=\"1\" class=\"dataframe\">\n",
       "  <thead>\n",
       "    <tr style=\"text-align: right;\">\n",
       "      <th></th>\n",
       "      <th>site</th>\n",
       "      <th>site_name</th>\n",
       "      <th>branch_add</th>\n",
       "      <th>banner</th>\n",
       "    </tr>\n",
       "  </thead>\n",
       "  <tbody>\n",
       "    <tr>\n",
       "      <th>103</th>\n",
       "      <td>1062</td>\n",
       "      <td>GIANT HYPERMARKET KELANA JAYA</td>\n",
       "      <td>NaN</td>\n",
       "      <td>02.HYPERMARKET</td>\n",
       "    </tr>\n",
       "    <tr>\n",
       "      <th>104</th>\n",
       "      <td>1220</td>\n",
       "      <td>Mercato Metro Park</td>\n",
       "      <td>NaN</td>\n",
       "      <td>03.UPSCALE</td>\n",
       "    </tr>\n",
       "    <tr>\n",
       "      <th>105</th>\n",
       "      <td>1148</td>\n",
       "      <td>Giant Hypermarket Cheng Melaka</td>\n",
       "      <td>NaN</td>\n",
       "      <td>02.HYPERMARKET</td>\n",
       "    </tr>\n",
       "    <tr>\n",
       "      <th>106</th>\n",
       "      <td>1219</td>\n",
       "      <td>TMC Hartamas</td>\n",
       "      <td>NaN</td>\n",
       "      <td>02. TMC - SUPERMARKET</td>\n",
       "    </tr>\n",
       "    <tr>\n",
       "      <th>107</th>\n",
       "      <td>1242</td>\n",
       "      <td>MERCATO KULIM</td>\n",
       "      <td>KULIM LANDMARK CENTRAL SHOPPING CENTRE,\\nLOT 1...</td>\n",
       "      <td>03.UPSCALE</td>\n",
       "    </tr>\n",
       "  </tbody>\n",
       "</table>\n",
       "</div>"
      ],
      "text/plain": [
       "     site                       site_name  \\\n",
       "103  1062   GIANT HYPERMARKET KELANA JAYA   \n",
       "104  1220              Mercato Metro Park   \n",
       "105  1148  Giant Hypermarket Cheng Melaka   \n",
       "106  1219                    TMC Hartamas   \n",
       "107  1242                   MERCATO KULIM   \n",
       "\n",
       "                                            branch_add                 banner  \n",
       "103                                                NaN         02.HYPERMARKET  \n",
       "104                                                NaN             03.UPSCALE  \n",
       "105                                                NaN         02.HYPERMARKET  \n",
       "106                                                NaN  02. TMC - SUPERMARKET  \n",
       "107  KULIM LANDMARK CENTRAL SHOPPING CENTRE,\\nLOT 1...             03.UPSCALE  "
      ]
     },
     "execution_count": 93,
     "metadata": {},
     "output_type": "execute_result"
    }
   ],
   "source": [
    "location_df.tail()"
   ]
  },
  {
   "cell_type": "code",
   "execution_count": 94,
   "id": "223179dc",
   "metadata": {},
   "outputs": [],
   "source": [
    "extract_location_df = location_df[['site', 'site_name', 'banner']]\n",
    "concat_df = pd.concat([store_list_df, extract_location_df], ignore_index=True)\n",
    "concat_df = concat_df.drop_duplicates(subset=['site', 'site_name', 'banner'], keep='first')"
   ]
  },
  {
   "cell_type": "code",
   "execution_count": 110,
   "id": "6849e838",
   "metadata": {},
   "outputs": [
    {
     "data": {
      "text/plain": [
       "194"
      ]
     },
     "execution_count": 110,
     "metadata": {},
     "output_type": "execute_result"
    }
   ],
   "source": [
    "len(concat_df)"
   ]
  },
  {
   "cell_type": "code",
   "execution_count": 32,
   "id": "06f659cd",
   "metadata": {},
   "outputs": [],
   "source": [
    "concat_df.to_excel('Concat Store List.xlsx', index=False)"
   ]
  },
  {
   "cell_type": "code",
   "execution_count": 33,
   "id": "53347611",
   "metadata": {},
   "outputs": [
    {
     "data": {
      "text/plain": [
       "np.int64(0)"
      ]
     },
     "execution_count": 33,
     "metadata": {},
     "output_type": "execute_result"
    }
   ],
   "source": [
    "concat_df.duplicated(subset=['site', 'site_name', 'banner'], keep='last').sum()"
   ]
  },
  {
   "cell_type": "code",
   "execution_count": 111,
   "id": "861ea771",
   "metadata": {},
   "outputs": [],
   "source": [
    "# df = pd.read_excel('Concat Store List.xlsx', sheet_name=0)\n",
    "df = concat_df"
   ]
  },
  {
   "cell_type": "code",
   "execution_count": 112,
   "id": "9e9667a4",
   "metadata": {},
   "outputs": [
    {
     "data": {
      "text/html": [
       "<div>\n",
       "<style scoped>\n",
       "    .dataframe tbody tr th:only-of-type {\n",
       "        vertical-align: middle;\n",
       "    }\n",
       "\n",
       "    .dataframe tbody tr th {\n",
       "        vertical-align: top;\n",
       "    }\n",
       "\n",
       "    .dataframe thead th {\n",
       "        text-align: right;\n",
       "    }\n",
       "</style>\n",
       "<table border=\"1\" class=\"dataframe\">\n",
       "  <thead>\n",
       "    <tr style=\"text-align: right;\">\n",
       "      <th></th>\n",
       "      <th>unnamed:_0</th>\n",
       "      <th>site</th>\n",
       "      <th>site_name</th>\n",
       "      <th>area</th>\n",
       "      <th>banner</th>\n",
       "      <th>remarks_closed_store</th>\n",
       "    </tr>\n",
       "  </thead>\n",
       "  <tbody>\n",
       "    <tr>\n",
       "      <th>0</th>\n",
       "      <td>NaN</td>\n",
       "      <td>1015</td>\n",
       "      <td>GIANT HYPERMARKET (S/ALAM STDM</td>\n",
       "      <td>A1- HYPERMARKET</td>\n",
       "      <td>01.HYPERMARKET</td>\n",
       "      <td>ACTIVE STORE</td>\n",
       "    </tr>\n",
       "    <tr>\n",
       "      <th>1</th>\n",
       "      <td>NaN</td>\n",
       "      <td>1164</td>\n",
       "      <td>GIANT HYPERMARKET KEMUNING UTA</td>\n",
       "      <td>A1- HYPERMARKET</td>\n",
       "      <td>01.HYPERMARKET</td>\n",
       "      <td>ACTIVE STORE</td>\n",
       "    </tr>\n",
       "    <tr>\n",
       "      <th>2</th>\n",
       "      <td>NaN</td>\n",
       "      <td>1133</td>\n",
       "      <td>GIANT HYPERMARKET PUTRA HEIGHT</td>\n",
       "      <td>A1- HYPERMARKET</td>\n",
       "      <td>01.HYPERMARKET</td>\n",
       "      <td>ACTIVE STORE</td>\n",
       "    </tr>\n",
       "    <tr>\n",
       "      <th>3</th>\n",
       "      <td>NaN</td>\n",
       "      <td>1163</td>\n",
       "      <td>GIANT HYPERMARKET SERI KEMBANG</td>\n",
       "      <td>A1- HYPERMARKET</td>\n",
       "      <td>01.HYPERMARKET</td>\n",
       "      <td>ACTIVE STORE</td>\n",
       "    </tr>\n",
       "    <tr>\n",
       "      <th>4</th>\n",
       "      <td>NaN</td>\n",
       "      <td>1147</td>\n",
       "      <td>GIANT HYPERMARKET SHAH ALAM</td>\n",
       "      <td>A1- HYPERMARKET</td>\n",
       "      <td>01.HYPERMARKET</td>\n",
       "      <td>ACTIVE STORE</td>\n",
       "    </tr>\n",
       "  </tbody>\n",
       "</table>\n",
       "</div>"
      ],
      "text/plain": [
       "   unnamed:_0  site                       site_name             area  \\\n",
       "0         NaN  1015  GIANT HYPERMARKET (S/ALAM STDM  A1- HYPERMARKET   \n",
       "1         NaN  1164  GIANT HYPERMARKET KEMUNING UTA  A1- HYPERMARKET   \n",
       "2         NaN  1133  GIANT HYPERMARKET PUTRA HEIGHT  A1- HYPERMARKET   \n",
       "3         NaN  1163  GIANT HYPERMARKET SERI KEMBANG  A1- HYPERMARKET   \n",
       "4         NaN  1147     GIANT HYPERMARKET SHAH ALAM  A1- HYPERMARKET   \n",
       "\n",
       "           banner remarks_closed_store  \n",
       "0  01.HYPERMARKET         ACTIVE STORE  \n",
       "1  01.HYPERMARKET         ACTIVE STORE  \n",
       "2  01.HYPERMARKET         ACTIVE STORE  \n",
       "3  01.HYPERMARKET         ACTIVE STORE  \n",
       "4  01.HYPERMARKET         ACTIVE STORE  "
      ]
     },
     "execution_count": 112,
     "metadata": {},
     "output_type": "execute_result"
    }
   ],
   "source": [
    "df.head()"
   ]
  },
  {
   "cell_type": "code",
   "execution_count": 113,
   "id": "abf6e9a8",
   "metadata": {},
   "outputs": [
    {
     "data": {
      "text/plain": [
       "np.int64(53)"
      ]
     },
     "metadata": {},
     "output_type": "display_data"
    },
    {
     "data": {
      "text/plain": [
       "np.int64(22)"
      ]
     },
     "metadata": {},
     "output_type": "display_data"
    }
   ],
   "source": [
    "display(\n",
    "\tdf.duplicated(subset=['site'], keep='last').sum(),\n",
    "\tdf.duplicated(subset=['site', 'site_name'], keep='last').sum()\n",
    ")"
   ]
  },
  {
   "cell_type": "code",
   "execution_count": 114,
   "id": "bf48b978",
   "metadata": {},
   "outputs": [],
   "source": [
    "df = df.drop_duplicates(subset=['site'], keep='first')"
   ]
  },
  {
   "cell_type": "code",
   "execution_count": 115,
   "id": "aaccadcc",
   "metadata": {},
   "outputs": [
    {
     "data": {
      "text/plain": [
       "141"
      ]
     },
     "execution_count": 115,
     "metadata": {},
     "output_type": "execute_result"
    }
   ],
   "source": [
    "len(df)"
   ]
  },
  {
   "cell_type": "code",
   "execution_count": null,
   "id": "b98de450",
   "metadata": {},
   "outputs": [],
   "source": [
    "# # tmp = df[df['site_name'] == 'GIANT HYPERMARKET SHAH ALAM']\n",
    "# tmp = df[df['site_name'] == 'Giant HQ']\n",
    "# tmp"
   ]
  },
  {
   "cell_type": "code",
   "execution_count": null,
   "id": "567b1dfe",
   "metadata": {},
   "outputs": [],
   "source": [
    "for site in df['site'].unique():\n",
    "\ttmp_df = df[df['site'] == site]\n",
    "\tif len(tmp_df) != 1:\n",
    "\t\tprint(site, len(tmp_df))"
   ]
  },
  {
   "cell_type": "code",
   "execution_count": 118,
   "id": "6250eed4",
   "metadata": {},
   "outputs": [],
   "source": [
    "updated_store_list_df = df\n",
    "updated_store_list_df.to_excel('Concat Store List2.xlsx' , index=False)"
   ]
  },
  {
   "cell_type": "code",
   "execution_count": 119,
   "id": "09d4399b",
   "metadata": {},
   "outputs": [
    {
     "data": {
      "text/plain": [
       "141"
      ]
     },
     "execution_count": 119,
     "metadata": {},
     "output_type": "execute_result"
    }
   ],
   "source": [
    "len(df)"
   ]
  },
  {
   "cell_type": "code",
   "execution_count": 120,
   "id": "de3245af",
   "metadata": {},
   "outputs": [
    {
     "data": {
      "text/html": [
       "<div>\n",
       "<style scoped>\n",
       "    .dataframe tbody tr th:only-of-type {\n",
       "        vertical-align: middle;\n",
       "    }\n",
       "\n",
       "    .dataframe tbody tr th {\n",
       "        vertical-align: top;\n",
       "    }\n",
       "\n",
       "    .dataframe thead th {\n",
       "        text-align: right;\n",
       "    }\n",
       "</style>\n",
       "<table border=\"1\" class=\"dataframe\">\n",
       "  <thead>\n",
       "    <tr style=\"text-align: right;\">\n",
       "      <th></th>\n",
       "      <th>unnamed:_0</th>\n",
       "      <th>site</th>\n",
       "      <th>site_name</th>\n",
       "      <th>area</th>\n",
       "      <th>banner</th>\n",
       "      <th>remarks_closed_store</th>\n",
       "    </tr>\n",
       "  </thead>\n",
       "  <tbody>\n",
       "    <tr>\n",
       "      <th>0</th>\n",
       "      <td>NaN</td>\n",
       "      <td>1015</td>\n",
       "      <td>GIANT HYPERMARKET (S/ALAM STDM</td>\n",
       "      <td>A1- HYPERMARKET</td>\n",
       "      <td>01.HYPERMARKET</td>\n",
       "      <td>ACTIVE STORE</td>\n",
       "    </tr>\n",
       "    <tr>\n",
       "      <th>1</th>\n",
       "      <td>NaN</td>\n",
       "      <td>1164</td>\n",
       "      <td>GIANT HYPERMARKET KEMUNING UTA</td>\n",
       "      <td>A1- HYPERMARKET</td>\n",
       "      <td>01.HYPERMARKET</td>\n",
       "      <td>ACTIVE STORE</td>\n",
       "    </tr>\n",
       "    <tr>\n",
       "      <th>2</th>\n",
       "      <td>NaN</td>\n",
       "      <td>1133</td>\n",
       "      <td>GIANT HYPERMARKET PUTRA HEIGHT</td>\n",
       "      <td>A1- HYPERMARKET</td>\n",
       "      <td>01.HYPERMARKET</td>\n",
       "      <td>ACTIVE STORE</td>\n",
       "    </tr>\n",
       "    <tr>\n",
       "      <th>3</th>\n",
       "      <td>NaN</td>\n",
       "      <td>1163</td>\n",
       "      <td>GIANT HYPERMARKET SERI KEMBANG</td>\n",
       "      <td>A1- HYPERMARKET</td>\n",
       "      <td>01.HYPERMARKET</td>\n",
       "      <td>ACTIVE STORE</td>\n",
       "    </tr>\n",
       "    <tr>\n",
       "      <th>4</th>\n",
       "      <td>NaN</td>\n",
       "      <td>1147</td>\n",
       "      <td>GIANT HYPERMARKET SHAH ALAM</td>\n",
       "      <td>A1- HYPERMARKET</td>\n",
       "      <td>01.HYPERMARKET</td>\n",
       "      <td>ACTIVE STORE</td>\n",
       "    </tr>\n",
       "    <tr>\n",
       "      <th>...</th>\n",
       "      <td>...</td>\n",
       "      <td>...</td>\n",
       "      <td>...</td>\n",
       "      <td>...</td>\n",
       "      <td>...</td>\n",
       "      <td>...</td>\n",
       "    </tr>\n",
       "    <tr>\n",
       "      <th>236</th>\n",
       "      <td>NaN</td>\n",
       "      <td>9022</td>\n",
       "      <td>DC SEPANG</td>\n",
       "      <td>NaN</td>\n",
       "      <td>06.DISTRIBUTION CENTRE - GIANT</td>\n",
       "      <td>NaN</td>\n",
       "    </tr>\n",
       "    <tr>\n",
       "      <th>237</th>\n",
       "      <td>NaN</td>\n",
       "      <td>HQ</td>\n",
       "      <td>Giant HQ</td>\n",
       "      <td>NaN</td>\n",
       "      <td></td>\n",
       "      <td>NaN</td>\n",
       "    </tr>\n",
       "    <tr>\n",
       "      <th>240</th>\n",
       "      <td>NaN</td>\n",
       "      <td>1220</td>\n",
       "      <td>Mercato Metro Park</td>\n",
       "      <td>NaN</td>\n",
       "      <td>03.UPSCALE</td>\n",
       "      <td>NaN</td>\n",
       "    </tr>\n",
       "    <tr>\n",
       "      <th>241</th>\n",
       "      <td>NaN</td>\n",
       "      <td>1148</td>\n",
       "      <td>Giant Hypermarket Cheng Melaka</td>\n",
       "      <td>NaN</td>\n",
       "      <td>02.HYPERMARKET</td>\n",
       "      <td>NaN</td>\n",
       "    </tr>\n",
       "    <tr>\n",
       "      <th>242</th>\n",
       "      <td>NaN</td>\n",
       "      <td>1219</td>\n",
       "      <td>TMC Hartamas</td>\n",
       "      <td>NaN</td>\n",
       "      <td>02. TMC - SUPERMARKET</td>\n",
       "      <td>NaN</td>\n",
       "    </tr>\n",
       "  </tbody>\n",
       "</table>\n",
       "<p>141 rows × 6 columns</p>\n",
       "</div>"
      ],
      "text/plain": [
       "     unnamed:_0  site                       site_name             area  \\\n",
       "0           NaN  1015  GIANT HYPERMARKET (S/ALAM STDM  A1- HYPERMARKET   \n",
       "1           NaN  1164  GIANT HYPERMARKET KEMUNING UTA  A1- HYPERMARKET   \n",
       "2           NaN  1133  GIANT HYPERMARKET PUTRA HEIGHT  A1- HYPERMARKET   \n",
       "3           NaN  1163  GIANT HYPERMARKET SERI KEMBANG  A1- HYPERMARKET   \n",
       "4           NaN  1147     GIANT HYPERMARKET SHAH ALAM  A1- HYPERMARKET   \n",
       "..          ...   ...                             ...              ...   \n",
       "236         NaN  9022                       DC SEPANG              NaN   \n",
       "237         NaN    HQ                        Giant HQ              NaN   \n",
       "240         NaN  1220              Mercato Metro Park              NaN   \n",
       "241         NaN  1148  Giant Hypermarket Cheng Melaka              NaN   \n",
       "242         NaN  1219                    TMC Hartamas              NaN   \n",
       "\n",
       "                             banner remarks_closed_store  \n",
       "0                    01.HYPERMARKET         ACTIVE STORE  \n",
       "1                    01.HYPERMARKET         ACTIVE STORE  \n",
       "2                    01.HYPERMARKET         ACTIVE STORE  \n",
       "3                    01.HYPERMARKET         ACTIVE STORE  \n",
       "4                    01.HYPERMARKET         ACTIVE STORE  \n",
       "..                              ...                  ...  \n",
       "236  06.DISTRIBUTION CENTRE - GIANT                  NaN  \n",
       "237                                                  NaN  \n",
       "240                      03.UPSCALE                  NaN  \n",
       "241                  02.HYPERMARKET                  NaN  \n",
       "242           02. TMC - SUPERMARKET                  NaN  \n",
       "\n",
       "[141 rows x 6 columns]"
      ]
     },
     "execution_count": 120,
     "metadata": {},
     "output_type": "execute_result"
    }
   ],
   "source": [
    "updated_store_list_df"
   ]
  },
  {
   "cell_type": "code",
   "execution_count": 126,
   "id": "cbdb667f",
   "metadata": {},
   "outputs": [
    {
     "data": {
      "text/html": [
       "<div>\n",
       "<style scoped>\n",
       "    .dataframe tbody tr th:only-of-type {\n",
       "        vertical-align: middle;\n",
       "    }\n",
       "\n",
       "    .dataframe tbody tr th {\n",
       "        vertical-align: top;\n",
       "    }\n",
       "\n",
       "    .dataframe thead th {\n",
       "        text-align: right;\n",
       "    }\n",
       "</style>\n",
       "<table border=\"1\" class=\"dataframe\">\n",
       "  <thead>\n",
       "    <tr style=\"text-align: right;\">\n",
       "      <th></th>\n",
       "      <th>site</th>\n",
       "      <th>site_name</th>\n",
       "      <th>branch_add</th>\n",
       "      <th>Banner</th>\n",
       "    </tr>\n",
       "  </thead>\n",
       "  <tbody>\n",
       "    <tr>\n",
       "      <th>0</th>\n",
       "      <td>1001</td>\n",
       "      <td>TMC SUPERMARKET (BANGSAR)</td>\n",
       "      <td>03-254290 23-27, LORONG ARA KIRI SA,\\nLUCKY GA...</td>\n",
       "      <td>Giant Super</td>\n",
       "    </tr>\n",
       "    <tr>\n",
       "      <th>1</th>\n",
       "      <td>1002</td>\n",
       "      <td>GIANT SUPERMARKET (KELANA JAYA)</td>\n",
       "      <td>NO. 2-8, SS 6/3,\\nPUSAT BANDAR KELANA JAYA,\\n4...</td>\n",
       "      <td>Giant Super</td>\n",
       "    </tr>\n",
       "    <tr>\n",
       "      <th>2</th>\n",
       "      <td>1004</td>\n",
       "      <td>GIANT SUPERMARKET (ULU KLANG)</td>\n",
       "      <td>LOT 13793 &amp; 13796,\\nJALAN CHANGKAT PERMATA,\\nT...</td>\n",
       "      <td>Giant Super</td>\n",
       "    </tr>\n",
       "    <tr>\n",
       "      <th>3</th>\n",
       "      <td>1006</td>\n",
       "      <td>GIANT HYPERMARKET (PLENTONG JB)</td>\n",
       "      <td>NO.3, JALAN MASAI LAMA,\\nMUKIM PLENTONG,\\nMASA...</td>\n",
       "      <td>Giant Hyper</td>\n",
       "    </tr>\n",
       "    <tr>\n",
       "      <th>4</th>\n",
       "      <td>1008</td>\n",
       "      <td>GIANT SUPERMARKET (AMPANG PNT)</td>\n",
       "      <td>LOT 36, GROUND FLOOR,\\nAMPANG POINT SHOPPING C...</td>\n",
       "      <td>Giant Super</td>\n",
       "    </tr>\n",
       "  </tbody>\n",
       "</table>\n",
       "</div>"
      ],
      "text/plain": [
       "   site                        site_name  \\\n",
       "0  1001        TMC SUPERMARKET (BANGSAR)   \n",
       "1  1002  GIANT SUPERMARKET (KELANA JAYA)   \n",
       "2  1004    GIANT SUPERMARKET (ULU KLANG)   \n",
       "3  1006  GIANT HYPERMARKET (PLENTONG JB)   \n",
       "4  1008   GIANT SUPERMARKET (AMPANG PNT)   \n",
       "\n",
       "                                          branch_add       Banner  \n",
       "0  03-254290 23-27, LORONG ARA KIRI SA,\\nLUCKY GA...  Giant Super  \n",
       "1  NO. 2-8, SS 6/3,\\nPUSAT BANDAR KELANA JAYA,\\n4...  Giant Super  \n",
       "2  LOT 13793 & 13796,\\nJALAN CHANGKAT PERMATA,\\nT...  Giant Super  \n",
       "3  NO.3, JALAN MASAI LAMA,\\nMUKIM PLENTONG,\\nMASA...  Giant Hyper  \n",
       "4  LOT 36, GROUND FLOOR,\\nAMPANG POINT SHOPPING C...  Giant Super  "
      ]
     },
     "execution_count": 126,
     "metadata": {},
     "output_type": "execute_result"
    }
   ],
   "source": [
    "update_from_loc = pd.read_excel('store_list.xlsx', sheet_name=2)\n",
    "update_from_loc.head()"
   ]
  },
  {
   "cell_type": "code",
   "execution_count": 133,
   "id": "0f6651a0",
   "metadata": {},
   "outputs": [],
   "source": [
    "merged_df = updated_store_list_df.merge(\n",
    "\tupdate_from_loc[['site', 'site_name', 'branch_add', 'Banner']],\n",
    "    on='site',\n",
    "    how='left',\n",
    "    suffixes=('_excel', '_sheet')\n",
    ")\n"
   ]
  },
  {
   "cell_type": "code",
   "execution_count": 134,
   "id": "d3bfed77",
   "metadata": {},
   "outputs": [
    {
     "data": {
      "text/plain": [
       "141"
      ]
     },
     "execution_count": 134,
     "metadata": {},
     "output_type": "execute_result"
    }
   ],
   "source": [
    "len(merged_df)"
   ]
  },
  {
   "cell_type": "code",
   "execution_count": 135,
   "id": "321bd51a",
   "metadata": {},
   "outputs": [
    {
     "data": {
      "text/html": [
       "<div>\n",
       "<style scoped>\n",
       "    .dataframe tbody tr th:only-of-type {\n",
       "        vertical-align: middle;\n",
       "    }\n",
       "\n",
       "    .dataframe tbody tr th {\n",
       "        vertical-align: top;\n",
       "    }\n",
       "\n",
       "    .dataframe thead th {\n",
       "        text-align: right;\n",
       "    }\n",
       "</style>\n",
       "<table border=\"1\" class=\"dataframe\">\n",
       "  <thead>\n",
       "    <tr style=\"text-align: right;\">\n",
       "      <th></th>\n",
       "      <th>unnamed:_0</th>\n",
       "      <th>site</th>\n",
       "      <th>site_name_excel</th>\n",
       "      <th>area</th>\n",
       "      <th>banner</th>\n",
       "      <th>remarks_closed_store</th>\n",
       "      <th>site_name_sheet</th>\n",
       "      <th>branch_add</th>\n",
       "      <th>Banner</th>\n",
       "    </tr>\n",
       "  </thead>\n",
       "  <tbody>\n",
       "    <tr>\n",
       "      <th>0</th>\n",
       "      <td>NaN</td>\n",
       "      <td>1015</td>\n",
       "      <td>GIANT HYPERMARKET (S/ALAM STDM</td>\n",
       "      <td>A1- HYPERMARKET</td>\n",
       "      <td>01.HYPERMARKET</td>\n",
       "      <td>ACTIVE STORE</td>\n",
       "      <td>Giant Hypermarket Stadium Shah Alam</td>\n",
       "      <td>LOT 2,PERSIARAN SUKAN,SEKSYEN 13,SHAH ALAM</td>\n",
       "      <td>Giant Hyper</td>\n",
       "    </tr>\n",
       "    <tr>\n",
       "      <th>1</th>\n",
       "      <td>NaN</td>\n",
       "      <td>1164</td>\n",
       "      <td>GIANT HYPERMARKET KEMUNING UTA</td>\n",
       "      <td>A1- HYPERMARKET</td>\n",
       "      <td>01.HYPERMARKET</td>\n",
       "      <td>ACTIVE STORE</td>\n",
       "      <td>GIANT HYPERMARKET KEMUNING UTAMA</td>\n",
       "      <td>NO 3, JALAN KEMUNING PRIMA E33/E,\\nKEMUNING UT...</td>\n",
       "      <td>Giant Hyper</td>\n",
       "    </tr>\n",
       "    <tr>\n",
       "      <th>2</th>\n",
       "      <td>NaN</td>\n",
       "      <td>1133</td>\n",
       "      <td>GIANT HYPERMARKET PUTRA HEIGHT</td>\n",
       "      <td>A1- HYPERMARKET</td>\n",
       "      <td>01.HYPERMARKET</td>\n",
       "      <td>ACTIVE STORE</td>\n",
       "      <td>GIANT HYPERMARKET PUTRA HEIGHTS</td>\n",
       "      <td>No. 3,\\nPersiaran Putra Perdana,\\n47650 Putra ...</td>\n",
       "      <td>Giant Hyper</td>\n",
       "    </tr>\n",
       "    <tr>\n",
       "      <th>3</th>\n",
       "      <td>NaN</td>\n",
       "      <td>1163</td>\n",
       "      <td>GIANT HYPERMARKET SERI KEMBANG</td>\n",
       "      <td>A1- HYPERMARKET</td>\n",
       "      <td>01.HYPERMARKET</td>\n",
       "      <td>ACTIVE STORE</td>\n",
       "      <td>GIANT HYPERMARKET SERI KEMBANGAN</td>\n",
       "      <td>JALAN PUTRA PERMAI,\\nBANDAR PUTRA PERMAI,\\n433...</td>\n",
       "      <td>Giant Hyper</td>\n",
       "    </tr>\n",
       "    <tr>\n",
       "      <th>4</th>\n",
       "      <td>NaN</td>\n",
       "      <td>1147</td>\n",
       "      <td>GIANT HYPERMARKET SHAH ALAM</td>\n",
       "      <td>A1- HYPERMARKET</td>\n",
       "      <td>01.HYPERMARKET</td>\n",
       "      <td>ACTIVE STORE</td>\n",
       "      <td>GIANT HYPERMARKET SHAH ALAM</td>\n",
       "      <td>GROUND FLOOR KOMERSIAL BLOK A,\\nNO 2, JALAN PL...</td>\n",
       "      <td>Giant Hyper</td>\n",
       "    </tr>\n",
       "  </tbody>\n",
       "</table>\n",
       "</div>"
      ],
      "text/plain": [
       "   unnamed:_0  site                 site_name_excel             area  \\\n",
       "0         NaN  1015  GIANT HYPERMARKET (S/ALAM STDM  A1- HYPERMARKET   \n",
       "1         NaN  1164  GIANT HYPERMARKET KEMUNING UTA  A1- HYPERMARKET   \n",
       "2         NaN  1133  GIANT HYPERMARKET PUTRA HEIGHT  A1- HYPERMARKET   \n",
       "3         NaN  1163  GIANT HYPERMARKET SERI KEMBANG  A1- HYPERMARKET   \n",
       "4         NaN  1147     GIANT HYPERMARKET SHAH ALAM  A1- HYPERMARKET   \n",
       "\n",
       "           banner remarks_closed_store                      site_name_sheet  \\\n",
       "0  01.HYPERMARKET         ACTIVE STORE  Giant Hypermarket Stadium Shah Alam   \n",
       "1  01.HYPERMARKET         ACTIVE STORE     GIANT HYPERMARKET KEMUNING UTAMA   \n",
       "2  01.HYPERMARKET         ACTIVE STORE      GIANT HYPERMARKET PUTRA HEIGHTS   \n",
       "3  01.HYPERMARKET         ACTIVE STORE     GIANT HYPERMARKET SERI KEMBANGAN   \n",
       "4  01.HYPERMARKET         ACTIVE STORE          GIANT HYPERMARKET SHAH ALAM   \n",
       "\n",
       "                                          branch_add       Banner  \n",
       "0         LOT 2,PERSIARAN SUKAN,SEKSYEN 13,SHAH ALAM  Giant Hyper  \n",
       "1  NO 3, JALAN KEMUNING PRIMA E33/E,\\nKEMUNING UT...  Giant Hyper  \n",
       "2  No. 3,\\nPersiaran Putra Perdana,\\n47650 Putra ...  Giant Hyper  \n",
       "3  JALAN PUTRA PERMAI,\\nBANDAR PUTRA PERMAI,\\n433...  Giant Hyper  \n",
       "4  GROUND FLOOR KOMERSIAL BLOK A,\\nNO 2, JALAN PL...  Giant Hyper  "
      ]
     },
     "execution_count": 135,
     "metadata": {},
     "output_type": "execute_result"
    }
   ],
   "source": [
    "merged_df.head()"
   ]
  },
  {
   "cell_type": "code",
   "execution_count": null,
   "id": "d5cca898",
   "metadata": {},
   "outputs": [
    {
     "data": {
      "text/html": [
       "<div>\n",
       "<style scoped>\n",
       "    .dataframe tbody tr th:only-of-type {\n",
       "        vertical-align: middle;\n",
       "    }\n",
       "\n",
       "    .dataframe tbody tr th {\n",
       "        vertical-align: top;\n",
       "    }\n",
       "\n",
       "    .dataframe thead th {\n",
       "        text-align: right;\n",
       "    }\n",
       "</style>\n",
       "<table border=\"1\" class=\"dataframe\">\n",
       "  <thead>\n",
       "    <tr style=\"text-align: right;\">\n",
       "      <th></th>\n",
       "      <th>site</th>\n",
       "      <th>site_name_excel</th>\n",
       "      <th>area</th>\n",
       "      <th>branch_add</th>\n",
       "      <th>banner</th>\n",
       "      <th>Banner_old</th>\n",
       "      <th>remarks_closed_store</th>\n",
       "    </tr>\n",
       "  </thead>\n",
       "  <tbody>\n",
       "    <tr>\n",
       "      <th>0</th>\n",
       "      <td>1015</td>\n",
       "      <td>GIANT HYPERMARKET (S/ALAM STDM</td>\n",
       "      <td>A1- HYPERMARKET</td>\n",
       "      <td>LOT 2,PERSIARAN SUKAN,SEKSYEN 13,SHAH ALAM</td>\n",
       "      <td>01.HYPERMARKET</td>\n",
       "      <td>Giant Hyper</td>\n",
       "      <td>ACTIVE STORE</td>\n",
       "    </tr>\n",
       "    <tr>\n",
       "      <th>1</th>\n",
       "      <td>1164</td>\n",
       "      <td>GIANT HYPERMARKET KEMUNING UTA</td>\n",
       "      <td>A1- HYPERMARKET</td>\n",
       "      <td>NO 3, JALAN KEMUNING PRIMA E33/E,\\nKEMUNING UT...</td>\n",
       "      <td>01.HYPERMARKET</td>\n",
       "      <td>Giant Hyper</td>\n",
       "      <td>ACTIVE STORE</td>\n",
       "    </tr>\n",
       "    <tr>\n",
       "      <th>2</th>\n",
       "      <td>1133</td>\n",
       "      <td>GIANT HYPERMARKET PUTRA HEIGHT</td>\n",
       "      <td>A1- HYPERMARKET</td>\n",
       "      <td>No. 3,\\nPersiaran Putra Perdana,\\n47650 Putra ...</td>\n",
       "      <td>01.HYPERMARKET</td>\n",
       "      <td>Giant Hyper</td>\n",
       "      <td>ACTIVE STORE</td>\n",
       "    </tr>\n",
       "    <tr>\n",
       "      <th>3</th>\n",
       "      <td>1163</td>\n",
       "      <td>GIANT HYPERMARKET SERI KEMBANG</td>\n",
       "      <td>A1- HYPERMARKET</td>\n",
       "      <td>JALAN PUTRA PERMAI,\\nBANDAR PUTRA PERMAI,\\n433...</td>\n",
       "      <td>01.HYPERMARKET</td>\n",
       "      <td>Giant Hyper</td>\n",
       "      <td>ACTIVE STORE</td>\n",
       "    </tr>\n",
       "    <tr>\n",
       "      <th>4</th>\n",
       "      <td>1147</td>\n",
       "      <td>GIANT HYPERMARKET SHAH ALAM</td>\n",
       "      <td>A1- HYPERMARKET</td>\n",
       "      <td>GROUND FLOOR KOMERSIAL BLOK A,\\nNO 2, JALAN PL...</td>\n",
       "      <td>01.HYPERMARKET</td>\n",
       "      <td>Giant Hyper</td>\n",
       "      <td>ACTIVE STORE</td>\n",
       "    </tr>\n",
       "    <tr>\n",
       "      <th>...</th>\n",
       "      <td>...</td>\n",
       "      <td>...</td>\n",
       "      <td>...</td>\n",
       "      <td>...</td>\n",
       "      <td>...</td>\n",
       "      <td>...</td>\n",
       "      <td>...</td>\n",
       "    </tr>\n",
       "    <tr>\n",
       "      <th>136</th>\n",
       "      <td>9022</td>\n",
       "      <td>DC SEPANG</td>\n",
       "      <td>NaN</td>\n",
       "      <td>GCH DISTRIBUTION CENTRE,\\nBANDAR BARU SALAK TI...</td>\n",
       "      <td>06.DISTRIBUTION CENTRE - GIANT</td>\n",
       "      <td>Distribution Centre</td>\n",
       "      <td>NaN</td>\n",
       "    </tr>\n",
       "    <tr>\n",
       "      <th>137</th>\n",
       "      <td>HQ</td>\n",
       "      <td>Giant HQ</td>\n",
       "      <td>NaN</td>\n",
       "      <td>Mezzanine Floor,\\nGiant Hypermarket Shah Alam ...</td>\n",
       "      <td></td>\n",
       "      <td>HQ</td>\n",
       "      <td>NaN</td>\n",
       "    </tr>\n",
       "    <tr>\n",
       "      <th>138</th>\n",
       "      <td>1220</td>\n",
       "      <td>Mercato Metro Park</td>\n",
       "      <td>NaN</td>\n",
       "      <td>NaN</td>\n",
       "      <td>03.UPSCALE</td>\n",
       "      <td>Upscale</td>\n",
       "      <td>NaN</td>\n",
       "    </tr>\n",
       "    <tr>\n",
       "      <th>139</th>\n",
       "      <td>1148</td>\n",
       "      <td>Giant Hypermarket Cheng Melaka</td>\n",
       "      <td>NaN</td>\n",
       "      <td>NaN</td>\n",
       "      <td>02.HYPERMARKET</td>\n",
       "      <td>Giant Hyper</td>\n",
       "      <td>NaN</td>\n",
       "    </tr>\n",
       "    <tr>\n",
       "      <th>140</th>\n",
       "      <td>1219</td>\n",
       "      <td>TMC Hartamas</td>\n",
       "      <td>NaN</td>\n",
       "      <td>NaN</td>\n",
       "      <td>02. TMC - SUPERMARKET</td>\n",
       "      <td>Giant Super</td>\n",
       "      <td>NaN</td>\n",
       "    </tr>\n",
       "  </tbody>\n",
       "</table>\n",
       "<p>141 rows × 7 columns</p>\n",
       "</div>"
      ],
      "text/plain": [
       "     site                 site_name_excel             area  \\\n",
       "0    1015  GIANT HYPERMARKET (S/ALAM STDM  A1- HYPERMARKET   \n",
       "1    1164  GIANT HYPERMARKET KEMUNING UTA  A1- HYPERMARKET   \n",
       "2    1133  GIANT HYPERMARKET PUTRA HEIGHT  A1- HYPERMARKET   \n",
       "3    1163  GIANT HYPERMARKET SERI KEMBANG  A1- HYPERMARKET   \n",
       "4    1147     GIANT HYPERMARKET SHAH ALAM  A1- HYPERMARKET   \n",
       "..    ...                             ...              ...   \n",
       "136  9022                       DC SEPANG              NaN   \n",
       "137    HQ                        Giant HQ              NaN   \n",
       "138  1220              Mercato Metro Park              NaN   \n",
       "139  1148  Giant Hypermarket Cheng Melaka              NaN   \n",
       "140  1219                    TMC Hartamas              NaN   \n",
       "\n",
       "                                            branch_add  \\\n",
       "0           LOT 2,PERSIARAN SUKAN,SEKSYEN 13,SHAH ALAM   \n",
       "1    NO 3, JALAN KEMUNING PRIMA E33/E,\\nKEMUNING UT...   \n",
       "2    No. 3,\\nPersiaran Putra Perdana,\\n47650 Putra ...   \n",
       "3    JALAN PUTRA PERMAI,\\nBANDAR PUTRA PERMAI,\\n433...   \n",
       "4    GROUND FLOOR KOMERSIAL BLOK A,\\nNO 2, JALAN PL...   \n",
       "..                                                 ...   \n",
       "136  GCH DISTRIBUTION CENTRE,\\nBANDAR BARU SALAK TI...   \n",
       "137  Mezzanine Floor,\\nGiant Hypermarket Shah Alam ...   \n",
       "138                                                NaN   \n",
       "139                                                NaN   \n",
       "140                                                NaN   \n",
       "\n",
       "                             banner           Banner_old remarks_closed_store  \n",
       "0                    01.HYPERMARKET          Giant Hyper         ACTIVE STORE  \n",
       "1                    01.HYPERMARKET          Giant Hyper         ACTIVE STORE  \n",
       "2                    01.HYPERMARKET          Giant Hyper         ACTIVE STORE  \n",
       "3                    01.HYPERMARKET          Giant Hyper         ACTIVE STORE  \n",
       "4                    01.HYPERMARKET          Giant Hyper         ACTIVE STORE  \n",
       "..                              ...                  ...                  ...  \n",
       "136  06.DISTRIBUTION CENTRE - GIANT  Distribution Centre                  NaN  \n",
       "137                                                   HQ                  NaN  \n",
       "138                      03.UPSCALE              Upscale                  NaN  \n",
       "139                  02.HYPERMARKET          Giant Hyper                  NaN  \n",
       "140           02. TMC - SUPERMARKET          Giant Super                  NaN  \n",
       "\n",
       "[141 rows x 7 columns]"
      ]
     },
     "execution_count": 138,
     "metadata": {},
     "output_type": "execute_result"
    }
   ],
   "source": [
    "final_merged_df = merged_df[['site', 'site_name_excel', 'area', 'branch_add', 'banner', 'Banner', 'remarks_closed_store']]\n",
    "final_merged_df.rename(columns={\n",
    "    'Banner': 'Banner_old'\n",
    "})"
   ]
  },
  {
   "cell_type": "code",
   "execution_count": 139,
   "id": "038b6795",
   "metadata": {},
   "outputs": [
    {
     "data": {
      "text/plain": [
       "141"
      ]
     },
     "execution_count": 139,
     "metadata": {},
     "output_type": "execute_result"
    }
   ],
   "source": [
    "len(final_merged_df)"
   ]
  },
  {
   "cell_type": "code",
   "execution_count": 140,
   "id": "a06acb3d",
   "metadata": {},
   "outputs": [],
   "source": [
    "for site in final_merged_df['site'].unique():\n",
    "    tmp_df = final_merged_df[final_merged_df['site'] == site]\n",
    "    if len(tmp_df) != 1:\n",
    "    \tprint(site, len(tmp_df))"
   ]
  },
  {
   "cell_type": "code",
   "execution_count": 141,
   "id": "5b8bfb8a",
   "metadata": {},
   "outputs": [],
   "source": [
    "final_merged_df.to_excel('Concat Store List3.xlsx', index=False)"
   ]
  },
  {
   "cell_type": "code",
   "execution_count": 142,
   "id": "861e3c82",
   "metadata": {},
   "outputs": [
    {
     "data": {
      "text/html": [
       "<div>\n",
       "<style scoped>\n",
       "    .dataframe tbody tr th:only-of-type {\n",
       "        vertical-align: middle;\n",
       "    }\n",
       "\n",
       "    .dataframe tbody tr th {\n",
       "        vertical-align: top;\n",
       "    }\n",
       "\n",
       "    .dataframe thead th {\n",
       "        text-align: right;\n",
       "    }\n",
       "</style>\n",
       "<table border=\"1\" class=\"dataframe\">\n",
       "  <thead>\n",
       "    <tr style=\"text-align: right;\">\n",
       "      <th></th>\n",
       "      <th>site</th>\n",
       "      <th>site_name_excel</th>\n",
       "      <th>area</th>\n",
       "      <th>branch_add</th>\n",
       "      <th>banner</th>\n",
       "      <th>Banner</th>\n",
       "      <th>remarks_closed_store</th>\n",
       "    </tr>\n",
       "  </thead>\n",
       "  <tbody>\n",
       "    <tr>\n",
       "      <th>0</th>\n",
       "      <td>1015</td>\n",
       "      <td>GIANT HYPERMARKET (S/ALAM STDM</td>\n",
       "      <td>A1- HYPERMARKET</td>\n",
       "      <td>LOT 2,PERSIARAN SUKAN,SEKSYEN 13,SHAH ALAM</td>\n",
       "      <td>01.HYPERMARKET</td>\n",
       "      <td>Giant Hyper</td>\n",
       "      <td>ACTIVE STORE</td>\n",
       "    </tr>\n",
       "    <tr>\n",
       "      <th>1</th>\n",
       "      <td>1164</td>\n",
       "      <td>GIANT HYPERMARKET KEMUNING UTA</td>\n",
       "      <td>A1- HYPERMARKET</td>\n",
       "      <td>NO 3, JALAN KEMUNING PRIMA E33/E,\\nKEMUNING UT...</td>\n",
       "      <td>01.HYPERMARKET</td>\n",
       "      <td>Giant Hyper</td>\n",
       "      <td>ACTIVE STORE</td>\n",
       "    </tr>\n",
       "    <tr>\n",
       "      <th>2</th>\n",
       "      <td>1133</td>\n",
       "      <td>GIANT HYPERMARKET PUTRA HEIGHT</td>\n",
       "      <td>A1- HYPERMARKET</td>\n",
       "      <td>No. 3,\\nPersiaran Putra Perdana,\\n47650 Putra ...</td>\n",
       "      <td>01.HYPERMARKET</td>\n",
       "      <td>Giant Hyper</td>\n",
       "      <td>ACTIVE STORE</td>\n",
       "    </tr>\n",
       "    <tr>\n",
       "      <th>3</th>\n",
       "      <td>1163</td>\n",
       "      <td>GIANT HYPERMARKET SERI KEMBANG</td>\n",
       "      <td>A1- HYPERMARKET</td>\n",
       "      <td>JALAN PUTRA PERMAI,\\nBANDAR PUTRA PERMAI,\\n433...</td>\n",
       "      <td>01.HYPERMARKET</td>\n",
       "      <td>Giant Hyper</td>\n",
       "      <td>ACTIVE STORE</td>\n",
       "    </tr>\n",
       "    <tr>\n",
       "      <th>4</th>\n",
       "      <td>1147</td>\n",
       "      <td>GIANT HYPERMARKET SHAH ALAM</td>\n",
       "      <td>A1- HYPERMARKET</td>\n",
       "      <td>GROUND FLOOR KOMERSIAL BLOK A,\\nNO 2, JALAN PL...</td>\n",
       "      <td>01.HYPERMARKET</td>\n",
       "      <td>Giant Hyper</td>\n",
       "      <td>ACTIVE STORE</td>\n",
       "    </tr>\n",
       "    <tr>\n",
       "      <th>...</th>\n",
       "      <td>...</td>\n",
       "      <td>...</td>\n",
       "      <td>...</td>\n",
       "      <td>...</td>\n",
       "      <td>...</td>\n",
       "      <td>...</td>\n",
       "      <td>...</td>\n",
       "    </tr>\n",
       "    <tr>\n",
       "      <th>136</th>\n",
       "      <td>9022</td>\n",
       "      <td>DC SEPANG</td>\n",
       "      <td>NaN</td>\n",
       "      <td>GCH DISTRIBUTION CENTRE,\\nBANDAR BARU SALAK TI...</td>\n",
       "      <td>06.DISTRIBUTION CENTRE - GIANT</td>\n",
       "      <td>Distribution Centre</td>\n",
       "      <td>NaN</td>\n",
       "    </tr>\n",
       "    <tr>\n",
       "      <th>137</th>\n",
       "      <td>HQ</td>\n",
       "      <td>Giant HQ</td>\n",
       "      <td>NaN</td>\n",
       "      <td>Mezzanine Floor,\\nGiant Hypermarket Shah Alam ...</td>\n",
       "      <td></td>\n",
       "      <td>HQ</td>\n",
       "      <td>NaN</td>\n",
       "    </tr>\n",
       "    <tr>\n",
       "      <th>138</th>\n",
       "      <td>1220</td>\n",
       "      <td>Mercato Metro Park</td>\n",
       "      <td>NaN</td>\n",
       "      <td>NaN</td>\n",
       "      <td>03.UPSCALE</td>\n",
       "      <td>Upscale</td>\n",
       "      <td>NaN</td>\n",
       "    </tr>\n",
       "    <tr>\n",
       "      <th>139</th>\n",
       "      <td>1148</td>\n",
       "      <td>Giant Hypermarket Cheng Melaka</td>\n",
       "      <td>NaN</td>\n",
       "      <td>NaN</td>\n",
       "      <td>02.HYPERMARKET</td>\n",
       "      <td>Giant Hyper</td>\n",
       "      <td>NaN</td>\n",
       "    </tr>\n",
       "    <tr>\n",
       "      <th>140</th>\n",
       "      <td>1219</td>\n",
       "      <td>TMC Hartamas</td>\n",
       "      <td>NaN</td>\n",
       "      <td>NaN</td>\n",
       "      <td>02. TMC - SUPERMARKET</td>\n",
       "      <td>Giant Super</td>\n",
       "      <td>NaN</td>\n",
       "    </tr>\n",
       "  </tbody>\n",
       "</table>\n",
       "<p>141 rows × 7 columns</p>\n",
       "</div>"
      ],
      "text/plain": [
       "     site                 site_name_excel             area  \\\n",
       "0    1015  GIANT HYPERMARKET (S/ALAM STDM  A1- HYPERMARKET   \n",
       "1    1164  GIANT HYPERMARKET KEMUNING UTA  A1- HYPERMARKET   \n",
       "2    1133  GIANT HYPERMARKET PUTRA HEIGHT  A1- HYPERMARKET   \n",
       "3    1163  GIANT HYPERMARKET SERI KEMBANG  A1- HYPERMARKET   \n",
       "4    1147     GIANT HYPERMARKET SHAH ALAM  A1- HYPERMARKET   \n",
       "..    ...                             ...              ...   \n",
       "136  9022                       DC SEPANG              NaN   \n",
       "137    HQ                        Giant HQ              NaN   \n",
       "138  1220              Mercato Metro Park              NaN   \n",
       "139  1148  Giant Hypermarket Cheng Melaka              NaN   \n",
       "140  1219                    TMC Hartamas              NaN   \n",
       "\n",
       "                                            branch_add  \\\n",
       "0           LOT 2,PERSIARAN SUKAN,SEKSYEN 13,SHAH ALAM   \n",
       "1    NO 3, JALAN KEMUNING PRIMA E33/E,\\nKEMUNING UT...   \n",
       "2    No. 3,\\nPersiaran Putra Perdana,\\n47650 Putra ...   \n",
       "3    JALAN PUTRA PERMAI,\\nBANDAR PUTRA PERMAI,\\n433...   \n",
       "4    GROUND FLOOR KOMERSIAL BLOK A,\\nNO 2, JALAN PL...   \n",
       "..                                                 ...   \n",
       "136  GCH DISTRIBUTION CENTRE,\\nBANDAR BARU SALAK TI...   \n",
       "137  Mezzanine Floor,\\nGiant Hypermarket Shah Alam ...   \n",
       "138                                                NaN   \n",
       "139                                                NaN   \n",
       "140                                                NaN   \n",
       "\n",
       "                             banner               Banner remarks_closed_store  \n",
       "0                    01.HYPERMARKET          Giant Hyper         ACTIVE STORE  \n",
       "1                    01.HYPERMARKET          Giant Hyper         ACTIVE STORE  \n",
       "2                    01.HYPERMARKET          Giant Hyper         ACTIVE STORE  \n",
       "3                    01.HYPERMARKET          Giant Hyper         ACTIVE STORE  \n",
       "4                    01.HYPERMARKET          Giant Hyper         ACTIVE STORE  \n",
       "..                              ...                  ...                  ...  \n",
       "136  06.DISTRIBUTION CENTRE - GIANT  Distribution Centre                  NaN  \n",
       "137                                                   HQ                  NaN  \n",
       "138                      03.UPSCALE              Upscale                  NaN  \n",
       "139                  02.HYPERMARKET          Giant Hyper                  NaN  \n",
       "140           02. TMC - SUPERMARKET          Giant Super                  NaN  \n",
       "\n",
       "[141 rows x 7 columns]"
      ]
     },
     "execution_count": 142,
     "metadata": {},
     "output_type": "execute_result"
    }
   ],
   "source": [
    "final_merged_df"
   ]
  }
 ],
 "metadata": {
  "kernelspec": {
   "display_name": "Python 3",
   "language": "python",
   "name": "python3"
  },
  "language_info": {
   "codemirror_mode": {
    "name": "ipython",
    "version": 3
   },
   "file_extension": ".py",
   "mimetype": "text/x-python",
   "name": "python",
   "nbconvert_exporter": "python",
   "pygments_lexer": "ipython3",
   "version": "3.13.0"
  }
 },
 "nbformat": 4,
 "nbformat_minor": 5
}
